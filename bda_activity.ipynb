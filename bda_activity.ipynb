{
 "cells": [
  {
   "cell_type": "markdown",
   "id": "9c8abea6-f0d6-4a0a-a178-3415c3602a48",
   "metadata": {},
   "source": [
    "# Boeing Defence Australia Data Challenge\n",
    "\n",
    "As part of key selection activities for Boeing Defence Australia, Boeing has requested the completion of a number of data challenges. \n",
    "\n",
    "There are three key questions submitted by Boeing for response, but the first task is to obtain the data."
   ]
  },
  {
   "cell_type": "code",
   "execution_count": 10,
   "id": "25b2d44c-bf68-44fb-96d7-87e60cf1e073",
   "metadata": {},
   "outputs": [],
   "source": [
    "import pandas as pd\n",
    "import requests\n",
    "from datetime import date, datetime\n",
    "from dateutil.relativedelta import relativedelta"
   ]
  },
  {
   "cell_type": "markdown",
   "id": "3c592f04-7c8e-478c-a57f-1fd1aa3e936e",
   "metadata": {},
   "source": [
    "## Obtain and Clean Data from API\n",
    "\n",
    "Boeing provided details of a data.gov.au REST api to be targetted for data acquisition. \n",
    "\n",
    "I explored the API documentation and found a way to acquire the data by targetting a specific URL.\n",
    "\n",
    "I prefer to take a functional approach to writing programs. So I have created two simple functions below -\n",
    "\n",
    "1. Acquire the Data.\n",
    "2. Clean the dataframe.\n"
   ]
  },
  {
   "cell_type": "code",
   "execution_count": 161,
   "id": "90d7812d-d908-4c9f-acfc-2fb8a346befa",
   "metadata": {},
   "outputs": [],
   "source": [
    "#select all from the given API resource - SQL api works as well as any other. \n",
    "url = 'https://data.gov.au/data/api/3/action/datastore_search_sql?sql=SELECT * from \"809c77d8-fd68-4a2c-806f-c63d64e69842\"'\n",
    "\n",
    "\n",
    "def load_data_from_api(url: str) -> pd.DataFrame:\n",
    "    \n",
    "    \"\"\"\n",
    "    Function which takes a url as an input argument and returns a pandas dataframe.\n",
    "    \n",
    "    Uses the requests library to request the data. Utilised the SQL part of the REST api to gather all elements from the relevant dataset. \n",
    "    \n",
    "    Extracts result part and then the records part of the resulting dictionary and returns as pandas dataframe.\n",
    "\n",
    "    \"\"\"\n",
    "    \n",
    "    #get json response dictionary\n",
    "    json_api_response = requests.get(url).json()\n",
    "    \n",
    "    #get records set\n",
    "    records = json_api_response['result']['records']\n",
    "    \n",
    "    #load_records_as df\n",
    "    df = pd.DataFrame(records)\n",
    "    \n",
    "    return df\n",
    "\n",
    "    \n",
    "def clean_dataframe(df: pd.DataFrame) -> pd.DataFrame:\n",
    "    \n",
    "    \n",
    "    \"\"\"\n",
    "    Function performs all required cleaning for the data frame prior to processing for solution to questions.\n",
    "    \n",
    "    Renames columns systematically to get rid of brackets and lower case the columns because I simply prefer this for consistency.\n",
    "    \n",
    "    Finds numerical types and transforms them to appropriate numerical types as the pandas dataframe reads them in as strings by default. \n",
    "    \n",
    "    Creates a dummy date variable based on the year and the month number for easier interrogation of dates later on.\n",
    "    \n",
    "    \"\"\"\n",
    "    \n",
    "    #lower case column names remove brackets\n",
    "    df.columns = [col.lower().replace('(', '').replace(')', '') for col in df.columns]\n",
    "    \n",
    "    #change some datatypes - specify what you want as float in float and what you want as int in int\n",
    "    numerical_columns_dict = {'float': [col for col in df.columns if 'tonnes' in col], \n",
    "                              'int': ['month_num', 'passengers_out','passengers_in']}\n",
    "    \n",
    "    \n",
    "    for dtype, type_columns in numerical_columns_dict.items():\n",
    "        \n",
    "        for column in type_columns:\n",
    "            #Change each of the columns in tern to\n",
    "            df[column] = df[column].fillna(0).astype(dtype)\n",
    "    \n",
    "    #drop _full_text because I don't care and assign a year_month date_variable at the start point of each month\n",
    "    \n",
    "    df = (df\n",
    "          .drop(columns = ['_full_text'])\n",
    "          .assign(year_month = lambda df: (pd.to_datetime(df['year'].astype(str)+'-'+df['month_num'].astype(str)+'-01'))))\n",
    "    \n",
    "    return df\n",
    "   \n",
    "\n",
    "    "
   ]
  },
  {
   "cell_type": "markdown",
   "id": "f995039e-9122-4941-b432-f1625b487c85",
   "metadata": {},
   "source": [
    "## Load the data and clean using functions"
   ]
  },
  {
   "cell_type": "code",
   "execution_count": 162,
   "id": "c25f03cc-c3e0-443d-8eea-5dc044f49ae4",
   "metadata": {},
   "outputs": [],
   "source": [
    "df = (load_data_from_api(url)\n",
    "      .pipe(clean_dataframe))"
   ]
  },
  {
   "cell_type": "markdown",
   "id": "8a7373a9-48bb-45fc-afe2-1ba32ee373c3",
   "metadata": {},
   "source": [
    "# Questions\n",
    "\n",
    "Questions will be answered in standard pandas syntax using method chaining.\n",
    "\n",
    "I have provided the output of these files in the github along with this notebook file.\n",
    "\n",
    "## Question 1\n",
    "\n",
    "> 1. How many passengers flew into and out of Australia for each airline in each month of 2019?\n",
    "\n"
   ]
  },
  {
   "cell_type": "code",
   "execution_count": 212,
   "id": "e3ea80ae-2cd2-4960-ab99-9574486bc611",
   "metadata": {
    "scrolled": true,
    "tags": []
   },
   "outputs": [],
   "source": [
    "(df\n",
    " .query('year_month.dt.year == 2019', engine='python') #what year\n",
    " [['year_month', 'airline', 'passengers_in', 'passengers_out']] #get columns\n",
    " .groupby(['year_month','airline'], as_index = False).sum() #sum \n",
    " .sort_values(['year_month','airline']) #sort for readability\n",
    " .to_csv('question1.csv',encoding = 'utf-8', index=False)) #write out file"
   ]
  },
  {
   "cell_type": "markdown",
   "id": "b560b88e-1c84-495d-aae2-5eb7d444c879",
   "metadata": {},
   "source": [
    "## Question 2\n",
    "\n",
    "> 2. In the last 6 months which port country was responsible for the most passengers coming into\n",
    "the country?\n",
    "\n",
    "For this question, I have elected to calculate 6 months back in the past and round back to the start of that month. \n",
    "\n",
    "Interrogating the data, I believe that data is provided on a one to two month lag. At the time of writing this file, the maximum date in the dataset is 2021-05-01. The parameter below that creates the `six_months_ago` variable could be altered to be seven months to be sure.\n",
    "\n",
    "Also... New Zealand travel bubble... Who knew?"
   ]
  },
  {
   "cell_type": "code",
   "execution_count": 213,
   "id": "9424820d-9797-4bca-bc61-58b21836cf74",
   "metadata": {},
   "outputs": [],
   "source": [
    "\n",
    "#create datetime objects represented the start of the month that was six months ago from the current date. \n",
    "six_months_ago = date.today() - 6*relativedelta(months = 1)\n",
    "six_months_ago_start = datetime.strptime(f'{six_months_ago.year}-{six_months_ago.month}-01', '%Y-%m-%d')\n",
    "\n",
    "(df\n",
    " .query('year_month>=@six_months_ago_start')#enforce six months ago only\n",
    " [['port_country','passengers_in']] #get columns we care about - we don't care about date we want the maximum over the window\n",
    " .groupby('port_country', as_index = False).sum() # sum\n",
    " .assign(max_passengers_in = lambda df: df['passengers_in'].max()) # assign a series which is just the maximum sum\n",
    " .query('max_passengers_in == passengers_in') #query to get the row where the passenger count is the maximum passenger count\n",
    " .drop(columns = ['max_passengers_in']) # we don't need two copies of the same number - drop one of them.\n",
    " .to_csv('question2.csv', encoding ='utf-8', index=False)) #write out\n",
    "\n"
   ]
  },
  {
   "cell_type": "markdown",
   "id": "93189155-87ad-4196-a6c7-722059133d8c",
   "metadata": {},
   "source": [
    "## Question 3\n",
    "\n",
    "> 3. What is the 3 month rolling average of freight arriving to Australia for each airline throughout\n",
    "2018?\n",
    "\n",
    "So, I have assumed you want the three month rolling average for all months in 2018. I therefore started the data in November of 2017 to give three months for averaging by the start of 2018. "
   ]
  },
  {
   "cell_type": "code",
   "execution_count": 218,
   "id": "8180723e-f1a1-49d2-8d29-1d4f5965e908",
   "metadata": {},
   "outputs": [],
   "source": [
    "#create datetime objects for querying\n",
    "start_date = datetime.strptime(f'2017-11-01', '%Y-%m-%d')\n",
    "end_date = datetime.strptime(f'2018-12-31', '%Y-%m-%d')\n",
    "\n",
    "(df\n",
    " .query('@start_date<=year_month<=@end_date')#get date range\n",
    " [['year_month','airline','freight_in_tonnes']] #select columns I care about\n",
    " .groupby(['airline', 'year_month']).sum() #sum over airline and month\n",
    " .assign(rolling_average_freight_in_tonnes = lambda df: df['freight_in_tonnes'].rolling(3).mean()) # assign a rolling average variable\n",
    " .reset_index() # index is painful\n",
    " .query('year_month.dt.year==2018')#give only what you asked for - 2018\n",
    " .to_csv('question3.csv', index=False, encoding = 'utf-8')\n",
    ")"
   ]
  },
  {
   "cell_type": "markdown",
   "id": "b173546f-17f5-46b8-9112-9e7254f2a8b2",
   "metadata": {},
   "source": [
    "Thanks for your consideration of my application.\n",
    "\n",
    "-Mitchell Gray."
   ]
  }
 ],
 "metadata": {
  "kernelspec": {
   "display_name": "Python 3",
   "language": "python",
   "name": "python3"
  },
  "language_info": {
   "codemirror_mode": {
    "name": "ipython",
    "version": 3
   },
   "file_extension": ".py",
   "mimetype": "text/x-python",
   "name": "python",
   "nbconvert_exporter": "python",
   "pygments_lexer": "ipython3",
   "version": "3.9.5"
  }
 },
 "nbformat": 4,
 "nbformat_minor": 5
}
